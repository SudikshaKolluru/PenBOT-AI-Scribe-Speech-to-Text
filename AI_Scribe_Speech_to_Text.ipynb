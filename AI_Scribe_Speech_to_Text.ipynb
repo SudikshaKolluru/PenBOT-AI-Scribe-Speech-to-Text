{
  "cells": [
    {
      "cell_type": "code",
      "execution_count": null,
      "metadata": {
        "id": "Z7Cs-I-C2jYG"
      },
      "outputs": [],
      "source": [
        "!pip install transformers -q"
      ]
    },
    {
      "cell_type": "code",
      "execution_count": null,
      "metadata": {
        "id": "Eq8_WMyj2mtv"
      },
      "outputs": [],
      "source": [
        "!pip install gradio -q"
      ]
    },
    {
      "cell_type": "code",
      "execution_count": null,
      "metadata": {
        "id": "_Hbc0Dzh2nhR"
      },
      "outputs": [],
      "source": [
        "from transformers import pipeline"
      ]
    },
    {
      "cell_type": "code",
      "source": [
        "p = pipeline(\"automatic-speech-recognition\")"
      ],
      "metadata": {
        "id": "DGsc-_nE3YM6"
      },
      "execution_count": null,
      "outputs": []
    },
    {
      "cell_type": "code",
      "source": [
        "import gradio as gr\n",
        "import time\n",
        "from zipfile import ZipFile"
      ],
      "metadata": {
        "id": "MHC2u1P96dIP"
      },
      "execution_count": null,
      "outputs": []
    },
    {
      "cell_type": "code",
      "source": [
        "def transcribe(audio, state=\"\"):\n",
        "    time.sleep(3)\n",
        "    text = p(audio)[\"text\"]\n",
        "    state += text + \" \"\n",
        "    return state, state\n"
      ],
      "metadata": {
        "id": "BZ8x8Fbr6d28"
      },
      "execution_count": null,
      "outputs": []
    },
    {
      "cell_type": "code",
      "source": [
        "title = \"Sri Vishnu Hospital\"\n",
        "description = \"\"\"\n",
        "<center>\n",
        "A Union of Compassion and Excellence in Healthcare\n",
        "<img src=\"https://bvrithyderabad.edu.in/wp-content/uploads/2016/12/sves-logo.png\" width=\"300\" height=\"200\">\n",
        "Medical History and Diagnosis Form\n",
        "</center>\n",
        "\"\"\""
      ],
      "metadata": {
        "id": "KOYTYPm1zSCi"
      },
      "execution_count": null,
      "outputs": []
    },
    {
      "cell_type": "code",
      "source": [
        "gr.Interface(transcribe, inputs=[gr.inputs.Audio(source=\"microphone\", type=\"filepath\"),'state'], outputs=[\"textbox\", \"state\"],title = title,description = description, allow_flagging = \"never\").launch(share = True)\n",
        ""
      ],
      "metadata": {
        "id": "V93wgiHe6e1X"
      },
      "execution_count": null,
      "outputs": []
    },
    {
      "cell_type": "markdown",
      "source": [
        "# **Download PDF**"
      ],
      "metadata": {
        "id": "_OmaPEBuFFnH"
      }
    },
    {
      "cell_type": "code",
      "source": [
        "from transformers import pipeline\n",
        "\n",
        "import gradio as gr\n",
        "\n",
        "asr = pipeline(\"automatic-speech-recognition\", \"facebook/wav2vec2-base-960h\")\n",
        "classifier = pipeline(\"text-classification\")\n",
        "\n",
        "\n",
        "def speech_to_text(speech):\n",
        "    text = asr(speech)[\"text\"]\n",
        "    return text\n",
        "\n",
        "def transcribe(audio, state=\"\"):\n",
        "    time.sleep(3)\n",
        "    text = p(audio)[\"text\"]\n",
        "    state += text + \" \"\n",
        "    return state, state\n",
        "\n",
        "\n",
        "def text_to_sentiment(text):\n",
        "    return classifier(text)[0][\"label\"]\n",
        "\n",
        "\n",
        "demo = gr.Blocks(title = title,description = description)\n",
        "\n",
        "with demo:\n",
        "    audio_file = gr.inputs.Audio(source=\"microphone\", type=\"filepath\")\n",
        "    text = gr.Textbox()\n",
        "    label = gr.Label()\n",
        "\n",
        "    b1 = gr.Button(\"Recognize Speech\")\n",
        "    b2 = gr.Button(\"Download PDF\")\n",
        "\n",
        "    b1.click(speech_to_text, inputs=audio_file, outputs=text)\n",
        "    b2.click(text_to_sentiment, inputs=text, outputs=label)\n",
        "\n",
        "if __name__ == \"__main__\":\n",
        "    demo.launch(share=True)\n"
      ],
      "metadata": {
        "id": "l8H6u98Q9-ce"
      },
      "execution_count": null,
      "outputs": []
    },
    {
      "cell_type": "code",
      "source": [
        "def fun(file1):\n",
        "  file2 = \"Pres.zip\"\n",
        "  with ZipFile(file2, \"w\") as zipObj:\n",
        "        zipObj.write(file1.name, \"Diagnosis\")\n",
        "  return file2"
      ],
      "metadata": {
        "id": "9gxV7kbID_Ts"
      },
      "execution_count": null,
      "outputs": []
    },
    {
      "cell_type": "code",
      "source": [
        "\"\"\"def transcribe(audio, state=\"\"):\n",
        "    time.sleep(3)\n",
        "    text = p(audio)[\"text\"]\n",
        "    state += text + \" \"\n",
        "    file1 = \"Pres.txt\"\n",
        "    with open(file1, \"w\") as fileobj:\n",
        "      fileobj.write(text)\n",
        "    file2 = fun(file1)\n",
        "    return state, state\"\"\""
      ],
      "metadata": {
        "id": "CCcbu94LwcZZ"
      },
      "execution_count": null,
      "outputs": []
    },
    {
      "cell_type": "code",
      "source": [
        "with gr.Blocks() as demo:\n",
        "    with gr.Row():\n",
        "      with gr.Column():\n",
        "        btn1 = gr.Button(\"Button 1\")\n",
        "        btn2 = gr.Button(\"Button 2\")\n",
        "demo.launch()"
      ],
      "metadata": {
        "id": "tS_TFYeds5xx"
      },
      "execution_count": null,
      "outputs": []
    }
  ],
  "metadata": {
    "accelerator": "GPU",
    "colab": {
      "provenance": []
    },
    "kernelspec": {
      "display_name": "Python 3",
      "name": "python3"
    },
    "language_info": {
      "name": "python"
    }
  },
  "nbformat": 4,
  "nbformat_minor": 0
}